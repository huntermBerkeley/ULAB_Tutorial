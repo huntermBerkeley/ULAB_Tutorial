{
 "cells": [
  {
   "cell_type": "markdown",
   "metadata": {},
   "source": [
    "**Lifting:** Lifting is where you modify your data with higher-order features.\n",
    "\n",
    "Why do we do this? The main reason is to allow a model to work in a feature space that it can't normally encompass. The best way to illustrate this is with a circular dataset:"
   ]
  },
  {
   "cell_type": "code",
   "execution_count": null,
   "metadata": {},
   "outputs": [],
   "source": [
    "import numpy as np\n",
    "import matplotlib\n",
    "from matplotlib import pyplot as plt\n",
    "%matplotlib inline\n",
    "np.random.seed(2)"
   ]
  },
  {
   "cell_type": "code",
   "execution_count": null,
   "metadata": {},
   "outputs": [],
   "source": [
    "#all points within .5, of (0,0) are 1, all else -1\n",
    "def gen_circle(n):\n",
    "    x = 2*np.random.rand(n,2) - 1\n",
    "    y = []\n",
    "    for point in x:\n",
    "        if np.sqrt(point[0]**2+point[1]**2) < .5:\n",
    "            y.append(1)\n",
    "        else:\n",
    "            y.append(-1)\n",
    "    y = np.asarray(y)\n",
    "    return x, y\n",
    "\n",
    "#and lets plot to visualise\n",
    "def plot_data(x, y):\n",
    "\n",
    "    colors = [\"purple\", \"red\"]\n",
    "    plt.scatter(x[:,0], x[:,1], c=y, cmap=matplotlib.colors.ListedColormap(colors))\n",
    "    circle = plt.Circle((0, 0), 0.5, color='r', fill=False)\n",
    "    plt.gcf().gca().add_artist(circle)\n",
    "    plt.gca().set_aspect('equal', adjustable='box')\n",
    "    plt.show()\n",
    "    \n",
    "def lstsq(x,y):\n",
    "    return np.linalg.inv(x.T @ x) @ x.T @ y\n",
    "\n",
    "def rmse(x, y, w):\n",
    "    return np.sqrt(np.mean((y - x @ w)**2))\n",
    "\n",
    "def prediction_accuracy(x,y,w):\n",
    "    predictions = x @ w\n",
    "    correct = 0\n",
    "    for i in range(len(y)):\n",
    "        if np.sign(predictions[i])  == np.sign(y[i]):\n",
    "            correct+=1\n",
    "    return correct/len(y)\n",
    "\n",
    "def prediction_labels(x,w):\n",
    "    return np.sign(x @ w)"
   ]
  },
  {
   "cell_type": "code",
   "execution_count": null,
   "metadata": {},
   "outputs": [],
   "source": [
    "x, y = gen_circle(500)"
   ]
  },
  {
   "cell_type": "code",
   "execution_count": null,
   "metadata": {},
   "outputs": [],
   "source": []
  },
  {
   "cell_type": "code",
   "execution_count": null,
   "metadata": {},
   "outputs": [],
   "source": [
    "plot_data(x,y)"
   ]
  },
  {
   "cell_type": "markdown",
   "metadata": {},
   "source": [
    "#now lets run least squares! There is no error, so this should be an easy fit\n",
    "w = lstsq(x,y)"
   ]
  },
  {
   "cell_type": "code",
   "execution_count": null,
   "metadata": {},
   "outputs": [],
   "source": [
    "w = lstsq(x,y)"
   ]
  },
  {
   "cell_type": "code",
   "execution_count": null,
   "metadata": {},
   "outputs": [],
   "source": [
    "#and measure our accuracy\n",
    "err = prediction_accuracy(x,y,w)\n",
    "print(err)"
   ]
  },
  {
   "cell_type": "markdown",
   "metadata": {},
   "source": [
    "So, even with perfect knowledge, we correctly labeled only 53% of the data correctly, which is barely better than half.\n",
    "\n",
    "So what happened? To figure out, lets try visualizing w."
   ]
  },
  {
   "cell_type": "code",
   "execution_count": null,
   "metadata": {},
   "outputs": [],
   "source": [
    "print(w)"
   ]
  },
  {
   "cell_type": "markdown",
   "metadata": {},
   "source": [
    "W has shape [2,1]. What does that mean?\n",
    "\n",
    "The equation we are trying to solve is $Xw = y$. Lets break that down by the size of the matrices: $(n,2) x (2,1) = (n,1)$"
   ]
  },
  {
   "cell_type": "markdown",
   "metadata": {},
   "source": [
    "Now put that multiplication in terms of linear algebra: $y_1 = x_i[0]*w_0+x_i[1]*w_1$\n"
   ]
  },
  {
   "cell_type": "markdown",
   "metadata": {},
   "source": [
    "So if y is the label, x[:,0] is the x axis, and x[:,1] is the y axis, we get the equation\n",
    "\n",
    "$label = w_0*x + w_1*y$"
   ]
  },
  {
   "cell_type": "code",
   "execution_count": null,
   "metadata": {},
   "outputs": [],
   "source": [
    "#generate new labels\n",
    "labels = prediction_labels(x,w)\n",
    "plot_data(x,labels)"
   ]
  },
  {
   "cell_type": "code",
   "execution_count": null,
   "metadata": {},
   "outputs": [],
   "source": [
    "#Time to lift\n",
    "def lift(x):\n",
    "    lifted_x = []\n",
    "    \n",
    "    for dp in x:\n",
    "        #x is [x,y]\n",
    "        #we will expand to [x,y,x^2,y^2,xy]\n",
    "        new_datapoint = [dp[0], dp[1], dp[0]**2, dp[1]**2, dp[0]*dp[1], 1]\n",
    "        lifted_x.append(new_datapoint)\n",
    "    return np.asarray(lifted_x)"
   ]
  },
  {
   "cell_type": "code",
   "execution_count": null,
   "metadata": {},
   "outputs": [],
   "source": [
    "new_x = lift(x)\n",
    "print(x.shape)\n",
    "print(new_x.shape)"
   ]
  },
  {
   "cell_type": "markdown",
   "metadata": {},
   "source": [
    "With this lifted x, our new equation is \n",
    "\n",
    "$label = w_0x + w_1y + w_2x^2 + w_3 y^2 + w_4xy + w_5$\n",
    "\n",
    "This equation can be a circle!"
   ]
  },
  {
   "cell_type": "code",
   "execution_count": null,
   "metadata": {},
   "outputs": [],
   "source": [
    "new_w = lstsq(new_x,y)\n",
    "\n",
    "correct = prediction_accuracy(new_x, y, new_w)\n",
    "print(correct)"
   ]
  },
  {
   "cell_type": "code",
   "execution_count": null,
   "metadata": {},
   "outputs": [],
   "source": [
    "new_labels = prediction_labels(new_x, new_w)\n",
    "\n",
    "plot_data(x, new_labels)"
   ]
  },
  {
   "cell_type": "markdown",
   "metadata": {},
   "source": [
    "98% is much better, and as we can see, the model basically learned the correct shape!\n"
   ]
  },
  {
   "cell_type": "code",
   "execution_count": null,
   "metadata": {},
   "outputs": [],
   "source": []
  }
 ],
 "metadata": {
  "kernelspec": {
   "display_name": "Python 3",
   "language": "python",
   "name": "python3"
  },
  "language_info": {
   "codemirror_mode": {
    "name": "ipython",
    "version": 3
   },
   "file_extension": ".py",
   "mimetype": "text/x-python",
   "name": "python",
   "nbconvert_exporter": "python",
   "pygments_lexer": "ipython3",
   "version": "3.7.3"
  }
 },
 "nbformat": 4,
 "nbformat_minor": 2
}

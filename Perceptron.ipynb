{
 "cells": [
  {
   "cell_type": "code",
   "execution_count": null,
   "metadata": {},
   "outputs": [],
   "source": [
    "#imports\n",
    "import numpy as np"
   ]
  },
  {
   "cell_type": "code",
   "execution_count": null,
   "metadata": {},
   "outputs": [],
   "source": [
    "#credit to pythonmachinelearning.pro\n",
    "# for the perceptron class\n",
    "class Perceptron(object):\n",
    "    \n",
    "    def __init__(self, input_size, lr=.1, epochs=100):\n",
    "        self.W = np.zeros(input_size+1)\n",
    "        #add one for bias\n",
    "        self.lr = lr\n",
    "        self.epochs = epochs\n",
    "            \n",
    "    def activation_fn(self, x):\n",
    "        return 1 if x >= 0 else 0\n",
    "    \n",
    "    def predict(self, x):\n",
    "        x = np.insert(x, 0, 1)\n",
    "        z = self.W.T.dot(x)\n",
    "        a = self.activation_fn(z)\n",
    "        return a\n",
    "    \n",
    "    def fit(self, X, y):\n",
    "        #for each epoch\n",
    "        for _ in range(self.epochs):\n",
    "            #for every data point\n",
    "            for i in range(len(y)):\n",
    "                #this inserts a spot for the bias term\n",
    "                x = np.insert(X[i],0,1)\n",
    "                y_hat = self.predict(X[i])\n",
    "                e = y[i] - y_hat\n",
    "                self.W = self.W + self.lr * e * x\n",
    "    "
   ]
  },
  {
   "cell_type": "code",
   "execution_count": null,
   "metadata": {},
   "outputs": [],
   "source": [
    "#create our data\n",
    "X = np.asarray([[0,0], [0,1], [1,0], [1,1]])\n",
    "y  = np.asarray([0,0,0,1])\n",
    "\n",
    "perceptron = Perceptron(input_size=2)\n",
    "perceptron.fit(X,y)\n",
    "\n",
    "print(perceptron.W)"
   ]
  },
  {
   "cell_type": "code",
   "execution_count": null,
   "metadata": {},
   "outputs": [],
   "source": [
    "perceptron.predict([1,0])"
   ]
  },
  {
   "cell_type": "code",
   "execution_count": null,
   "metadata": {},
   "outputs": [],
   "source": []
  }
 ],
 "metadata": {
  "kernelspec": {
   "display_name": "Python 3",
   "language": "python",
   "name": "python3"
  },
  "language_info": {
   "codemirror_mode": {
    "name": "ipython",
    "version": 3
   },
   "file_extension": ".py",
   "mimetype": "text/x-python",
   "name": "python",
   "nbconvert_exporter": "python",
   "pygments_lexer": "ipython3",
   "version": "3.7.3"
  }
 },
 "nbformat": 4,
 "nbformat_minor": 2
}

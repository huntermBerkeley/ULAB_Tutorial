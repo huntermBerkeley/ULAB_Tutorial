{
 "cells": [
  {
   "cell_type": "code",
   "execution_count": null,
   "metadata": {},
   "outputs": [],
   "source": [
    "import numpy as np\n",
    "from tensorflow import keras\n",
    "import matplotlib.pyplot as plt\n",
    "%matplotlib inline\n",
    "import random"
   ]
  },
  {
   "cell_type": "code",
   "execution_count": null,
   "metadata": {},
   "outputs": [],
   "source": [
    "train,test = keras.datasets.mnist.load_data()"
   ]
  },
  {
   "cell_type": "markdown",
   "metadata": {},
   "source": [
    "**Visualize some random images**"
   ]
  },
  {
   "cell_type": "code",
   "execution_count": null,
   "metadata": {},
   "outputs": [],
   "source": [
    "fig = plt.figure(figsize=(8,8))\n",
    "rows = 10\n",
    "cols = 10\n",
    "for i in range(100):\n",
    "        fig.add_subplot(rows, cols, i+1)\n",
    "        image = random.choice(train[0])\n",
    "        plt.imshow(image)\n",
    "plt.show()"
   ]
  },
  {
   "cell_type": "code",
   "execution_count": null,
   "metadata": {},
   "outputs": [],
   "source": [
    "x_train = train[0].reshape(len(train[0]),-1)\n",
    "y_train = train[1]\n",
    "x_test = test[0].reshape(len(test[0]),-1)\n",
    "y_test = test[1]"
   ]
  },
  {
   "cell_type": "markdown",
   "metadata": {},
   "source": [
    "**Reshape y**\n",
    "\n",
    "- In order for OLS to work, we need y to be one-hot vectors\n",
    "- One-hot vectors are vectors that are empty expect for one index, which is 1\n",
    "- Example: y = 3 to y = [0,0,0,1,0,0]"
   ]
  },
  {
   "cell_type": "code",
   "execution_count": null,
   "metadata": {},
   "outputs": [],
   "source": [
    "#takes in a y matrix and a size of one-hots,\n",
    "# outputs converted matrix\n",
    "def convert_to_onehot(y, size):\n",
    "    y_out = []\n",
    "    \n",
    "    for item in y:\n",
    "        new_row = np.zeros((size))\n",
    "        new_row[item] = 1\n",
    "        y_out.append(new_row)\n",
    "    \n",
    "    return np.asarray(y_out)\n",
    "    \n",
    "y_train = convert_to_onehot(y_train,10)\n",
    "y_test = convert_to_onehot(y_test,10)"
   ]
  },
  {
   "cell_type": "code",
   "execution_count": null,
   "metadata": {},
   "outputs": [],
   "source": [
    "print(y_train[0])"
   ]
  },
  {
   "cell_type": "markdown",
   "metadata": {},
   "source": [
    "**Ordinary Least Squares:**\n",
    "\n",
    "- Canonical Solution minimizes $||y-Xw||^2$\n",
    "- Solution is of the form $w = (X^T X)^{-1} X^T y$"
   ]
  },
  {
   "cell_type": "code",
   "execution_count": null,
   "metadata": {},
   "outputs": [],
   "source": [
    "weights = np.linalg.inv(x_train.T @ x_train + .01*np.eye(x_train.shape[1])) @ x_train.T @ y_train"
   ]
  },
  {
   "cell_type": "code",
   "execution_count": null,
   "metadata": {},
   "outputs": [],
   "source": [
    "pritn(weights.shape)"
   ]
  },
  {
   "cell_type": "code",
   "execution_count": null,
   "metadata": {},
   "outputs": [],
   "source": []
  }
 ],
 "metadata": {
  "kernelspec": {
   "display_name": "Python 3",
   "language": "python",
   "name": "python3"
  },
  "language_info": {
   "codemirror_mode": {
    "name": "ipython",
    "version": 3
   },
   "file_extension": ".py",
   "mimetype": "text/x-python",
   "name": "python",
   "nbconvert_exporter": "python",
   "pygments_lexer": "ipython3",
   "version": "3.7.3"
  }
 },
 "nbformat": 4,
 "nbformat_minor": 2
}

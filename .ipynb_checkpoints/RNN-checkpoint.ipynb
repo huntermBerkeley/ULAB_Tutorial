{
 "cells": [
  {
   "cell_type": "code",
   "execution_count": null,
   "metadata": {},
   "outputs": [],
   "source": [
    "import numpy as np\n",
    "import tensorflow as tf\n",
    "from tensorflow import keras\n",
    "import os\n",
    "from sklearn import preprocessing\n",
    "\n"
   ]
  },
  {
   "cell_type": "code",
   "execution_count": null,
   "metadata": {},
   "outputs": [],
   "source": [
    "import keras\n",
    "from keras.models import Model\n",
    "from keras.layers import Input, LSTM, Dense\n",
    "from keras.optimizers import SGD"
   ]
  },
  {
   "cell_type": "code",
   "execution_count": null,
   "metadata": {},
   "outputs": [],
   "source": [
    "#lets read each file\n",
    "data = \"\"\n",
    "for filename in os.listdir(os.getcwd()+\"/Gutenberg/txt\"):\n",
    "    print(filename)\n",
    "    if filename == \"Henry David Thoreau___A Week on the Concord and Merrimack Rivers.txt\":\n",
    "        break;\n",
    "    with open(os.getcwd()+\"/Gutenberg/txt/\" + filename, 'r') as file:\n",
    "        data += file.read().replace('\\n', '')\n",
    "        break"
   ]
  },
  {
   "cell_type": "code",
   "execution_count": null,
   "metadata": {},
   "outputs": [],
   "source": [
    "#wow, thats a lot of data\n",
    "print(len(data))\n",
    "data = np.asarray([char for char in data]).reshape(-1,1)"
   ]
  },
  {
   "cell_type": "code",
   "execution_count": null,
   "metadata": {},
   "outputs": [],
   "source": [
    "le = preprocessing.OneHotEncoder()\n",
    "#lets make a one-hot encoder for the chars\n",
    "le.fit(data)\n",
    "data = le.transform(data)"
   ]
  },
  {
   "cell_type": "code",
   "execution_count": null,
   "metadata": {},
   "outputs": [],
   "source": [
    "#lets generate some data!\n",
    "import random\n",
    "num_samples = 25000\n",
    "sample_length = 5\n",
    "\n",
    "x = []\n",
    "y = []\n",
    "i = 0\n",
    "while len(x) < num_samples:\n",
    "    \n",
    "    if len(x) % 1000 == 0:\n",
    "        print(len(x))\n",
    "    i = random.randrange(0, data.shape[0]-sample_length-10)\n",
    "    \n",
    "    try:\n",
    "        x.append(data[i:i+sample_length])\n",
    "        \n",
    "        y.append(data[i+sample_length+1])\n",
    "      \n",
    "    except:\n",
    "        #I don't really care if it breaks, we have 7 million more samples\n",
    "   \n",
    "        continue\n",
    "x = np.array(x)\n",
    "y = np.asarray([thing.todense() for thing in y]).reshape(num_samples,-1)"
   ]
  },
  {
   "cell_type": "code",
   "execution_count": null,
   "metadata": {},
   "outputs": [],
   "source": []
  },
  {
   "cell_type": "code",
   "execution_count": null,
   "metadata": {},
   "outputs": [],
   "source": [
    "#reshape x\n",
    "new_x = np.zeros((num_samples, sample_length, x[0].shape[1]))\n",
    "for i in range(len(x)):\n",
    "    new_x[i] = x[i].todense()\n",
    "x = new_x"
   ]
  },
  {
   "cell_type": "code",
   "execution_count": null,
   "metadata": {},
   "outputs": [],
   "source": [
    "print(x.shape)\n",
    "print(y.shape)"
   ]
  },
  {
   "cell_type": "code",
   "execution_count": null,
   "metadata": {},
   "outputs": [],
   "source": [
    "def build_model(output_size):\n",
    "    \n",
    "    main_input = Input(shape=((sample_length,output_size,)))\n",
    "    lstm_layer = LSTM(512)(main_input)\n",
    "    d_1 = Dense(128, activation='relu')(lstm_layer)\n",
    "    output = Dense(output_size, activation='softmax')(d_1)\n",
    "    \n",
    "    model = Model(inputs=[main_input], outputs=[output])\n",
    "    return model"
   ]
  },
  {
   "cell_type": "code",
   "execution_count": null,
   "metadata": {},
   "outputs": [],
   "source": [
    "model = build_model(len(le.categories_[0]))"
   ]
  },
  {
   "cell_type": "code",
   "execution_count": null,
   "metadata": {},
   "outputs": [],
   "source": [
    "model.summary()"
   ]
  },
  {
   "cell_type": "code",
   "execution_count": null,
   "metadata": {},
   "outputs": [],
   "source": [
    "model.compile(optimizer='adam', loss='categorical_crossentropy', metrics=['accuracy'])"
   ]
  },
  {
   "cell_type": "code",
   "execution_count": null,
   "metadata": {},
   "outputs": [],
   "source": [
    "history = model.fit(new_x,y,epochs=100, batch_size=32)"
   ]
  },
  {
   "cell_type": "code",
   "execution_count": null,
   "metadata": {},
   "outputs": [],
   "source": [
    "def generate_text(model, length, sample_length, inp):\n",
    "    output = inp\n",
    "    for i in range(length):\n",
    "        new_inp = np.asarray([mat.todense() for mat in le.transform(np.asarray([char for char in output[-sample_length:]]).reshape(-1,1))]).reshape(1,sample_length,-1)\n",
    "        encoded = model.predict(new_inp)\n",
    "        next_char = le.inverse_transform(encoded)\n",
    "        output = output + next_char[0][0]\n",
    "    return output\n"
   ]
  },
  {
   "cell_type": "code",
   "execution_count": null,
   "metadata": {},
   "outputs": [],
   "source": [
    "generate_text(model,300,  sample_length, \"once upon a time i decided\")"
   ]
  },
  {
   "cell_type": "code",
   "execution_count": null,
   "metadata": {},
   "outputs": [],
   "source": [
    "model.save(\"rnn_model\")"
   ]
  },
  {
   "cell_type": "code",
   "execution_count": null,
   "metadata": {},
   "outputs": [],
   "source": [
    "rnn_model = keras.models.load_model(\"rnn_model\")\n"
   ]
  },
  {
   "cell_type": "code",
   "execution_count": null,
   "metadata": {},
   "outputs": [],
   "source": [
    "generate_text(rnn_model, 300, sample_length, \"Input your sample text here\")"
   ]
  },
  {
   "cell_type": "code",
   "execution_count": null,
   "metadata": {},
   "outputs": [],
   "source": []
  }
 ],
 "metadata": {
  "kernelspec": {
   "display_name": "Python 3",
   "language": "python",
   "name": "python3"
  },
  "language_info": {
   "codemirror_mode": {
    "name": "ipython",
    "version": 3
   },
   "file_extension": ".py",
   "mimetype": "text/x-python",
   "name": "python",
   "nbconvert_exporter": "python",
   "pygments_lexer": "ipython3",
   "version": "3.7.3"
  }
 },
 "nbformat": 4,
 "nbformat_minor": 2
}

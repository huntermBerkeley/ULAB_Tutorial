{
 "cells": [
  {
   "cell_type": "code",
   "execution_count": null,
   "metadata": {},
   "outputs": [],
   "source": [
    "import numpy as np"
   ]
  },
  {
   "cell_type": "code",
   "execution_count": null,
   "metadata": {
    "scrolled": true
   },
   "outputs": [],
   "source": [
    "#lets define our A matrix\n",
    "A = np.asarray([[1,0],[2,3]])\n",
    "print(A)"
   ]
  },
  {
   "cell_type": "markdown",
   "metadata": {},
   "source": [
    "**Eigenvectors/Eigenvalues:** Let's start by getting the eigenvalues of A and see how they interact!"
   ]
  },
  {
   "cell_type": "code",
   "execution_count": null,
   "metadata": {},
   "outputs": [],
   "source": [
    "evals, evecs = np.linalg.eig(A)\n",
    "\n",
    "#numpy does them as columns, not rows, so we transpose\n",
    "evecs = evecs.T\n",
    "\n",
    "\n",
    "print(evals)"
   ]
  },
  {
   "cell_type": "code",
   "execution_count": null,
   "metadata": {},
   "outputs": [],
   "source": [
    "print(evecs)"
   ]
  },
  {
   "cell_type": "code",
   "execution_count": null,
   "metadata": {},
   "outputs": [],
   "source": [
    "#lets grab the first eigenvector\n",
    "first = evecs[0]\n",
    "print(first)"
   ]
  },
  {
   "cell_type": "code",
   "execution_count": null,
   "metadata": {},
   "outputs": [],
   "source": [
    "scaled_first = A @ first\n",
    "print(scaled_first)\n",
    "print(scaled_first/3)"
   ]
  },
  {
   "cell_type": "code",
   "execution_count": null,
   "metadata": {},
   "outputs": [],
   "source": [
    "#and do the same for the second evec\n",
    "second = evecs[1]\n",
    "print(second)\n",
    "print(A @ second)"
   ]
  },
  {
   "cell_type": "code",
   "execution_count": null,
   "metadata": {},
   "outputs": [],
   "source": [
    "#what happens when we combine?\n",
    "mixed = second + first\n",
    "print(mixed)\n",
    "print(A @ mixed)"
   ]
  },
  {
   "cell_type": "code",
   "execution_count": null,
   "metadata": {},
   "outputs": [],
   "source": [
    "#now lets call svd\n",
    "#it will return us a U, S, and V^T matrix\n",
    "U, S, Vt = np.linalg.svd(A)"
   ]
  },
  {
   "cell_type": "code",
   "execution_count": null,
   "metadata": {},
   "outputs": [],
   "source": [
    "print(U)"
   ]
  },
  {
   "cell_type": "code",
   "execution_count": null,
   "metadata": {},
   "outputs": [],
   "source": [
    "print(S)"
   ]
  },
  {
   "cell_type": "code",
   "execution_count": null,
   "metadata": {},
   "outputs": [],
   "source": [
    "print(Vt)"
   ]
  },
  {
   "cell_type": "code",
   "execution_count": null,
   "metadata": {},
   "outputs": [],
   "source": [
    "#asserts similar with high accuracy (not perfect)\n",
    "assert(np.allclose(A, (U * S) @ Vt))"
   ]
  },
  {
   "cell_type": "markdown",
   "metadata": {},
   "source": [
    "The U matrix is the eigenvectors of $A A^T$, while $V^T$ is the transpose. of V, the eigenvectors of $A^T A$.\n",
    "\n",
    "\n",
    "The S matrix is Sigma, commonly denoted $\\Sigma$, and is the magnitude of each component.\n",
    "\n",
    "These matrices are commonly used in a dimensionality reduction called **Principal component Analysis (PCA).**\n",
    "\n",
    "The main idea of PCA is to discard the rows and columns of $U$ and $V^T$ that correspond with small values in $\\Sigma$. As these are small values, they don't make up much of the original image, so we don't lose very much information when getting rid of them.\n",
    "\n",
    "Let's test this with a picture from mnist!"
   ]
  },
  {
   "cell_type": "code",
   "execution_count": null,
   "metadata": {},
   "outputs": [],
   "source": [
    "from tensorflow import keras\n",
    "from matplotlib import pyplot as plt\n",
    "%matplotlib inline\n",
    "\n",
    "img = keras.datasets.mnist.load_data()[0][0][3]"
   ]
  },
  {
   "cell_type": "code",
   "execution_count": null,
   "metadata": {},
   "outputs": [],
   "source": [
    "plt.imshow(img)"
   ]
  },
  {
   "cell_type": "code",
   "execution_count": null,
   "metadata": {},
   "outputs": [],
   "source": [
    "#now run svd\n",
    "U, S, Vt = np.linalg.svd(img)\n",
    "print(U.shape)\n",
    "print(S.shape)\n",
    "print(Vt.shape)"
   ]
  },
  {
   "cell_type": "code",
   "execution_count": null,
   "metadata": {},
   "outputs": [],
   "source": [
    "(U * S[0]) @ Vt[0]"
   ]
  },
  {
   "cell_type": "code",
   "execution_count": null,
   "metadata": {},
   "outputs": [],
   "source": [
    "#how many components?\n",
    "num_components = ?\n",
    "\n",
    "s_example = np.copy(S)\n",
    "for i in range(num_components, len(s_example)):\n",
    "    s_example[i]  = 0    \n",
    "print(s_example)\n",
    "output = (U*s_example) @ Vt\n",
    "print(output.shape)\n",
    "plt.imshow(output)"
   ]
  },
  {
   "cell_type": "code",
   "execution_count": null,
   "metadata": {},
   "outputs": [],
   "source": [
    "#playing with eigenvalues for dims\n",
    "\n",
    "A = np.asarray([[1,0], [0,0]])\n",
    "np.linalg.eig(A)"
   ]
  },
  {
   "cell_type": "code",
   "execution_count": null,
   "metadata": {},
   "outputs": [],
   "source": [
    "#lets try to get to [2,0] with this matrix\n",
    "\n",
    "inp = np.asarray([?,?])\n",
    "\n",
    "print(A @ inp)"
   ]
  },
  {
   "cell_type": "code",
   "execution_count": null,
   "metadata": {},
   "outputs": [],
   "source": [
    "#now lets try to get to [2,1]\n",
    "\n",
    "inp = np.asarray([?,?])\n",
    "\n",
    "print(A @ inp)"
   ]
  },
  {
   "cell_type": "code",
   "execution_count": null,
   "metadata": {},
   "outputs": [],
   "source": []
  }
 ],
 "metadata": {
  "kernelspec": {
   "display_name": "Python 3",
   "language": "python",
   "name": "python3"
  },
  "language_info": {
   "codemirror_mode": {
    "name": "ipython",
    "version": 3
   },
   "file_extension": ".py",
   "mimetype": "text/x-python",
   "name": "python",
   "nbconvert_exporter": "python",
   "pygments_lexer": "ipython3",
   "version": "3.7.3"
  }
 },
 "nbformat": 4,
 "nbformat_minor": 2
}

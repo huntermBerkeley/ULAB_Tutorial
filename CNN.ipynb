{
 "cells": [
  {
   "cell_type": "code",
   "execution_count": null,
   "metadata": {},
   "outputs": [],
   "source": [
    "import numpy as np\n",
    "from tensorflow import keras\n",
    "import matplotlib.pyplot as plt\n",
    "%matplotlib inline\n",
    "import random"
   ]
  },
  {
   "cell_type": "code",
   "execution_count": null,
   "metadata": {},
   "outputs": [],
   "source": [
    "#imports for keras layers\n",
    "import keras\n",
    "from keras.models import Sequential, Model\n",
    "from keras.layers import Input, Conv2D, MaxPooling2D, Flatten, Dense, Dropout, ZeroPadding2D\n",
    "from keras.optimizers import SGD"
   ]
  },
  {
   "cell_type": "code",
   "execution_count": null,
   "metadata": {},
   "outputs": [],
   "source": [
    "train,test = keras.datasets.mnist.load_data()"
   ]
  },
  {
   "cell_type": "code",
   "execution_count": null,
   "metadata": {},
   "outputs": [],
   "source": [
    "fig = plt.figure(figsize=(8,8))\n",
    "rows = 10\n",
    "cols = 10\n",
    "\n",
    "for i in range(100):\n",
    "        fig.add_subplot(rows, cols, i+1)\n",
    "        image = random.choice(train[0])\n",
    "        plt.imshow(image)\n",
    "print(\"Sample images: \")\n",
    "plt.show()"
   ]
  },
  {
   "cell_type": "code",
   "execution_count": null,
   "metadata": {},
   "outputs": [],
   "source": [
    "#resize data\n",
    "x_train = train[0]\n",
    "y_train = train[1]\n",
    "x_test = test[0]\n",
    "y_test = test[1]\n",
    "\n",
    "IMAGE_SIZE = len(train[0][0])\n",
    "#takes in a y matrix and a size of one-hots,\n",
    "# outputs converted matrix\n",
    "def convert_to_onehot(y, size):\n",
    "    y_out = []\n",
    "    \n",
    "    for item in y:\n",
    "        new_row = np.zeros((size))\n",
    "        new_row[item] = 1\n",
    "        y_out.append(new_row)\n",
    "    \n",
    "    return np.asarray(y_out)\n",
    "\n",
    "x_train = x_train.reshape(-1,28,28,1)\n",
    "x_test = x_test.reshape(-1,28,28,1)\n",
    "    \n",
    "y_train = convert_to_onehot(y_train,10)\n",
    "y_test = convert_to_onehot(y_test,10)"
   ]
  },
  {
   "cell_type": "code",
   "execution_count": null,
   "metadata": {},
   "outputs": [],
   "source": [
    "#define a neural network in keras\n",
    "def build_model():\n",
    "    image_input = Input(shape=(IMAGE_SIZE,IMAGE_SIZE,1))\n",
    "    x = ZeroPadding2D((1,1))(image_input)\n",
    "    x = Conv2D(64, (3,3), activation=\"relu\")(x)\n",
    "    x = Flatten()(x)\n",
    "    layer_1 = Dense(128, activation=\"relu\")(x)\n",
    "    d_1 = Dropout(.5)(layer_1)\n",
    "    layer_2 = Dense(128, activation=\"relu\")(d_1)\n",
    "    main_output = Dense(10, activation=\"softmax\")(layer_2)\n",
    "    model = Model(inputs=[image_input], outputs=[main_output])\n",
    "    return model\n"
   ]
  },
  {
   "cell_type": "code",
   "execution_count": null,
   "metadata": {},
   "outputs": [],
   "source": [
    "model = build_model()\n",
    "model.summary()"
   ]
  },
  {
   "cell_type": "code",
   "execution_count": null,
   "metadata": {},
   "outputs": [],
   "source": [
    "#compile the model for training\n",
    "model.compile(optimizer=\"adam\", loss=\"categorical_crossentropy\", metrics=[\"accuracy\"])"
   ]
  },
  {
   "cell_type": "code",
   "execution_count": null,
   "metadata": {},
   "outputs": [],
   "source": [
    "#and fit\n",
    "model.fit(x_train, y_train, epochs=5, batch_size=32)"
   ]
  },
  {
   "cell_type": "code",
   "execution_count": null,
   "metadata": {},
   "outputs": [],
   "source": [
    "y_hat = model.predict(x_test)"
   ]
  },
  {
   "cell_type": "code",
   "execution_count": null,
   "metadata": {},
   "outputs": [],
   "source": [
    "#test Classify accuracy\n",
    "def test_classify(y_hat, y_test):\n",
    "    count = 0\n",
    "    right = 0\n",
    "    for i in range(len(y_test)):\n",
    "        if np.argmax(y_test[i]) == np.argmax(y_hat[i]):\n",
    "            right+=1\n",
    "        count += 1\n",
    "    return(right/count)"
   ]
  },
  {
   "cell_type": "code",
   "execution_count": null,
   "metadata": {},
   "outputs": [],
   "source": [
    "print(test_classify(y_hat, y_test))"
   ]
  },
  {
   "cell_type": "code",
   "execution_count": null,
   "metadata": {},
   "outputs": [],
   "source": []
  }
 ],
 "metadata": {
  "kernelspec": {
   "display_name": "Python 3",
   "language": "python",
   "name": "python3"
  },
  "language_info": {
   "codemirror_mode": {
    "name": "ipython",
    "version": 3
   },
   "file_extension": ".py",
   "mimetype": "text/x-python",
   "name": "python",
   "nbconvert_exporter": "python",
   "pygments_lexer": "ipython3",
   "version": "3.7.3"
  }
 },
 "nbformat": 4,
 "nbformat_minor": 2
}
